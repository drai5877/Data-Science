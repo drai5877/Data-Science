{
  "nbformat": 4,
  "nbformat_minor": 0,
  "metadata": {
    "colab": {
      "provenance": []
    },
    "kernelspec": {
      "name": "python3",
      "display_name": "Python 3"
    },
    "language_info": {
      "name": "python"
    }
  },
  "cells": [
    {
      "cell_type": "markdown",
      "source": [
        "# 1 Q1. Explain with an example each when to use a for loop and a while loop..\n",
        "\n"
      ],
      "metadata": {
        "id": "6hC17jCZDAd1"
      }
    },
    {
      "cell_type": "code",
      "source": [
        "# for loop ->    when you how many times will loop\n",
        "        #Example-Sum of First Five no\n",
        "sum = 0\n",
        "for i in range(1, 6):\n",
        "    sum += i\n",
        "\n",
        "print(\"Sum of first five numbers:\", sum)\n",
        "\n",
        "#  while loop -> when you dont know how many times wll loop\n",
        "      #Example - Sum of First Five no\n",
        "i = 1\n",
        "sum = 0\n",
        "while i <= 5:\n",
        "    sum += i\n",
        "    i += 1\n",
        "print(\"Sum of first five numbers:\", sum)\n",
        "\n"
      ],
      "metadata": {
        "colab": {
          "base_uri": "https://localhost:8080/"
        },
        "id": "N_EEkoeHDhPD",
        "outputId": "00fe0af1-726b-4b78-ad39-2b5842388756"
      },
      "execution_count": null,
      "outputs": [
        {
          "output_type": "stream",
          "name": "stdout",
          "text": [
            "Sum of first five numbers: 15\n",
            "Sum of first five numbers: 15\n"
          ]
        }
      ]
    },
    {
      "cell_type": "markdown",
      "source": [
        "# 2 Write a python program to print the sum and product of the first 10 natural numbers using for and while loop.\n"
      ],
      "metadata": {
        "id": "JKLhKePsHB3m"
      }
    },
    {
      "cell_type": "code",
      "source": [
        "#with for loop\n",
        "sum = 0\n",
        "product = 1\n",
        "for i in range(1, 11):\n",
        "    sum += i\n",
        "    product *= i\n",
        "print(\"Sum of first 10 natural numbers:\", sum)\n",
        "print(\"Product of first 10 natural numbers:\", product)\n",
        "#with while loop\n",
        "sum = 0\n",
        "product = 1\n",
        "i = 1\n",
        "while i <= 10:\n",
        "    sum += i\n",
        "    product *= i"
      ],
      "metadata": {
        "colab": {
          "base_uri": "https://localhost:8080/"
        },
        "id": "HkcJByc6FESH",
        "outputId": "a70aa480-a0a5-47e5-95dd-4636d26dcafe"
      },
      "execution_count": null,
      "outputs": [
        {
          "metadata": {
            "tags": null
          },
          "name": "stdout",
          "output_type": "stream",
          "text": [
            "Sum of first 10 natural numbers: 55\n",
            "Product of first 10 natural numbers: 3628800\n"
          ]
        }
      ]
    },
    {
      "cell_type": "markdown",
      "source": [
        "# 3 Create a python program to compute the electricity bill for a household.\n",
        "\n"
      ],
      "metadata": {
        "id": "UifQfdu3HlLM"
      }
    },
    {
      "cell_type": "code",
      "source": [
        "# Take input from user\n",
        "units = int(input(\"Enter the number of electricity units consumed: \"))\n",
        "\n",
        "# Initialize bill\n",
        "bill = 0\n",
        "\n",
        "# Calculate bill based on the slabs\n",
        "if units <= 100:\n",
        "    bill = units * 4.5\n",
        "elif units <= 200:\n",
        "    bill = (100 * 4.5) + (units - 100) * 6\n",
        "elif units <= 300:\n",
        "    bill = (100 * 4.5) + (100 * 6) + (units - 200) * 10\n",
        "else:\n",
        "    bill = (100 * 4.5) + (100 * 6) + (100 * 10) + (units - 300) * 20\n",
        "\n",
        "# Output the result\n",
        "print(f\"Total electricity bill for {units} units is ₹{bill}\")\n",
        "\n"
      ],
      "metadata": {
        "id": "TZo788lJG9Hh"
      },
      "execution_count": null,
      "outputs": []
    },
    {
      "cell_type": "markdown",
      "source": [
        "# 4 Create a list of numbers from 1 to 100. Use for loop and while loop to calculate the cube of each number and if the cube of that number is divisible by 4 or 5 then append that number in a list and print at list."
      ],
      "metadata": {
        "id": "AMVvy7D-IEb9"
      }
    },
    {
      "cell_type": "code",
      "source": [
        "#with for loop\n",
        "\n",
        "result_for = []\n",
        "\n",
        "# Loop through numbers from 1 to 100\n",
        "for i in range(1, 101):\n",
        "    cube = i ** 3\n",
        "    if cube % 4 == 0 or cube % 5 == 0:\n",
        "        result_for.append(i)\n",
        "\n",
        "# Print the result\n",
        "print(\"Using for loop:\")\n",
        "print(result_for)\n",
        "\n",
        "\n",
        "#with while loop\n",
        "# Create a list to store valid numbers\n",
        "result_while = []\n",
        "\n",
        "i = 1\n",
        "while i <= 100:\n",
        "    cube = i ** 3\n",
        "    if cube % 4 == 0 or cube % 5 == 0:\n",
        "        result_while.append(i)\n",
        "    i += 1\n",
        "\n",
        "# Print the result\n",
        "print(\"\\nUsing while loop:\")\n",
        "print(result_while)\n"
      ],
      "metadata": {
        "id": "s6b5f0pHH_sb"
      },
      "execution_count": null,
      "outputs": []
    },
    {
      "cell_type": "markdown",
      "source": [
        "# 5 Write a program to filter count vowels in the below-given string.string = \"I want to become a data scientist\""
      ],
      "metadata": {
        "id": "tNcy8SS6Iw9d"
      }
    },
    {
      "cell_type": "code",
      "source": [
        "# Given string\n",
        "string = \"I want to become a data scientist\"\n",
        "\n",
        "# Define vowels (both lowercase and uppercase)\n",
        "vowels = \"aeiouAEIOU\"\n",
        "\n",
        "# Initialize count\n",
        "vowel_count = 0\n",
        "\n",
        "# Loop through each character in the string\n",
        "for char in string:\n",
        "    if char in vowels:\n",
        "        vowel_count += 1\n",
        "\n",
        "# Output the result\n",
        "print(\"Total number of vowels:\", vowel_count)\n"
      ],
      "metadata": {
        "id": "ClwDN2otI5Jj"
      },
      "execution_count": null,
      "outputs": []
    }
  ]
}